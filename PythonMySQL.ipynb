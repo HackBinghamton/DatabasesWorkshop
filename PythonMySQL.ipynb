{
 "cells": [
  {
   "cell_type": "markdown",
   "metadata": {
    "id": "mGDPzAb8YPk2"
   },
   "source": [
    "# MySQL with Python\n",
    "\n",
    "## Overview \n",
    "### What You'll Learn\n",
    "In this section you will learn: \n",
    "1. How to use MySQL with Python\n",
    "\n",
    "### Prerequisites\n",
    "Before starting this section, you will need: \n",
    "1. To know intermediate Python - [Python Workshop](https://github.com/HackBinghamton/PythonWorkshop)\n",
    "2. To be familiar with basic SQL concepts and syntax - [Intro to SQL](SQLBeginner.md)\n",
    "\n",
    "### Introduction\n",
    "\n",
    "MySQL is a popular, open-source relational database management system backed by Oracle. You would need to use SQL, a query language, to communicate with the relational database. However, MySQL allows you to connect the SQL language with Python, a procedural language. In this section you will learn how to connect to a MySQL database and perform some SQL operations using Python.\n",
    "\n",
    "## Setting Up The Environment\n",
    "\n",
    "First, you will need to install the MySQL server. There is a free version of MySQL that you can install on your local machines if you'd like, but here, we can install it within this Google Colab notebook. \n",
    "\n",
    "Run the following code to install MySQL, and wait for the installation to complete. "
   ]
  },
  {
   "cell_type": "code",
   "execution_count": null,
   "metadata": {
    "id": "Xy0bIcOBww7A"
   },
   "outputs": [],
   "source": [
    "!apt update\n",
    "!apt install mysql-server"
   ]
  },
  {
   "cell_type": "markdown",
   "metadata": {
    "id": "Xz2aPI7OgfMg"
   },
   "source": [
    "Now that you have MySQL installed, you can start the server.\n"
   ]
  },
  {
   "cell_type": "code",
   "execution_count": null,
   "metadata": {
    "id": "tl4ldKNENfFw"
   },
   "outputs": [],
   "source": [
    "# !service mysql stop\n",
    "!mysqld --skip-grant-tables &\n",
    "!service mysql start"
   ]
  },
  {
   "cell_type": "markdown",
   "metadata": {
    "id": "4I8RBMoezJq0"
   },
   "source": [
    "Normally, you would set up a user and a password to connect to the server, but since you are doing this within Google Colab, trying to log in with a password causes some connection issues. That is why we are calling `!mysqld --skip-grant-tables &` above; by running this command, it allows connections to all your databases without any passwords or restrictions. **Generally, you should avoid providing open access to your databases as it is a major security concern.**\n",
    "\n",
    "The final step to set up your environment is to install the MySQL Python Connector. MySQL connector/Python is a database driver that allows you to access MySQL databses using Python. Run the following command to install the connector."
   ]
  },
  {
   "cell_type": "code",
   "execution_count": null,
   "metadata": {
    "id": "kz86bcSq3zKI"
   },
   "outputs": [],
   "source": [
    "!python3 -m pip install mysql-connector-python"
   ]
  },
  {
   "cell_type": "markdown",
   "metadata": {
    "id": "35_w6N3g4QUC"
   },
   "source": [
    "## Python MySQL\n",
    "\n",
    "### Connecting to the MySQL server\n",
    "\n",
    "In order to connect to the server, you need to import the python module you installed above. Then, call the `connect()` constructor that takes in optional parameters: `user`, `password`, `host`, and `database`. In this Google Colab instance, the user is \"root\" and the host is \"localhost\" (or IP address of \"127.0.0.1\"). Since you do not need a password to connect to the server, and you have not created any databases yet, you can leave them out.The `connect()` constructor will return a `MySQLConnection` object.\n"
   ]
  },
  {
   "cell_type": "code",
   "execution_count": null,
   "metadata": {
    "id": "7VCi5HnG64Rc"
   },
   "outputs": [],
   "source": [
    "import mysql.connector\n",
    "\n",
    "cnx = mysql.connector.connect(\n",
    "  host=\"127.0.0.1\",\n",
    "  user=\"root\",\n",
    ")\n",
    "\n",
    "print(cnx)"
   ]
  },
  {
   "cell_type": "markdown",
   "metadata": {
    "id": "jj8NigyN9T-9"
   },
   "source": [
    "### Creating a Database\n",
    "\n",
    "Now with your connection, you can start executing SQL commands with Python. The first thing you should do is to make a database to work with. \n",
    "\n",
    "In order to execute commands, you need a cursor object. A cursor is a control structure that points to and traverses through your database. \n",
    "\n",
    "With your cursor object, you can call the `execute()` function and pass in SQL queries with normal MySQL syntax as a string. After executing the query, the server sends back data in which the cursor object acts as an iterator traversing through the returned data.\n",
    "\n",
    "The follow code snippet creates a cursor object then creates a database called `my_db`. The next query retrieves the names of existing databases in your server. Calling the `execute()` function itself will not list out the databases. Since the cursor objects acts as an iterator to the returned data, the code loops through the cursor and prints out every record from the query -- all the names of the databases. "
   ]
  },
  {
   "cell_type": "code",
   "execution_count": null,
   "metadata": {
    "id": "w2Avb3Qt7zqZ"
   },
   "outputs": [],
   "source": [
    "cursor = cnx.cursor(buffered=True)\n",
    "\n",
    "cursor.execute(\"CREATE DATABASE IF NOT EXISTS my_db\")\n",
    "\n",
    "cursor.execute(\"SHOW DATABASES\")\n",
    "\n",
    "for x in cursor:\n",
    "  print(x)\n"
   ]
  },
  {
   "cell_type": "markdown",
   "metadata": {
    "id": "kJvixtnYHxhH"
   },
   "source": [
    "The above code snippet should print out the name of your new database `my_db` and the default databases the MySQL server manages. \n",
    "\n",
    "### Creating a Table\n",
    "\n",
    "Now that you have a database to work with, you'll need to connect to the server again but this time specifying which database you want to connect to. The following code snippet will connect to the `my_db` database you created above. "
   ]
  },
  {
   "cell_type": "code",
   "execution_count": null,
   "metadata": {
    "id": "KivzZDrRI98w"
   },
   "outputs": [],
   "source": [
    "cnx = mysql.connector.connect(\n",
    "  host=\"127.0.0.1\",\n",
    "  user=\"root\",\n",
    "  database='my_db'\n",
    ")\n",
    "cursor = cnx.cursor(buffered=True)"
   ]
  },
  {
   "cell_type": "markdown",
   "metadata": {
    "id": "_9jOE5DiJPXY"
   },
   "source": [
    "The `my_db` database does not have any tables yet. The following code will create a table called `menu` that has two columns: `name` and `price`. "
   ]
  },
  {
   "cell_type": "code",
   "execution_count": null,
   "metadata": {
    "id": "wdQUs2mZJwzU"
   },
   "outputs": [],
   "source": [
    "cursor.execute(\"CREATE TABLE IF NOT EXISTS menu (name VARCHAR(255), price DOUBLE)\")"
   ]
  },
  {
   "cell_type": "markdown",
   "metadata": {
    "id": "PBBAk3DYKgih"
   },
   "source": [
    "You can see if the table was created by listing out all the tables the database has."
   ]
  },
  {
   "cell_type": "code",
   "execution_count": null,
   "metadata": {
    "id": "Oy_-Xo7YJVoN"
   },
   "outputs": [],
   "source": [
    "cursor.execute(\"SHOW TABLES\")\n",
    "\n",
    "for x in cursor:\n",
    "  print(x)"
   ]
  },
  {
   "cell_type": "markdown",
   "metadata": {
    "id": "sOYVdsugKsxz"
   },
   "source": [
    "### Insert Values to Table\n",
    "\n",
    "The following code snippet will insert a row into the `menu` table. \n",
    "\n",
    "To insert values into your tables, you can use queries with parameters. With the `%s` marker, you can specify and pass in the values separately (similar to how `printf()` works, but all the parameter specifer is the `%s` symbol). \n",
    "\n",
    "When writing to a table, you must call the `commit()` method on your connection object to keep the changes. "
   ]
  },
  {
   "cell_type": "code",
   "execution_count": null,
   "metadata": {
    "id": "l_LFZ2-7OFen"
   },
   "outputs": [],
   "source": [
    "sql = \"INSERT INTO menu (name, price) VALUES (%s, %s)\"\n",
    "val = (\"Steak\", \"29.99\")\n",
    "cursor.execute(sql, val)\n",
    "\n",
    "cnx.commit()\n",
    "\n",
    "cursor.execute(\"SELECT * FROM menu\")\n",
    "\n",
    "for x in cursor:\n",
    "  print(x)"
   ]
  },
  {
   "cell_type": "markdown",
   "metadata": {
    "id": "12f22yyyQC08"
   },
   "source": [
    "The above snippet should return an entry in your `menu` table. \n",
    "\n",
    "You can also use the `executemany()` method to execute multiple queries by passing a list of values like so:"
   ]
  },
  {
   "cell_type": "code",
   "execution_count": null,
   "metadata": {
    "id": "j3MpOHMQQedP"
   },
   "outputs": [],
   "source": [
    "sql = \"INSERT INTO menu (name, price) VALUES (%s, %s)\"\n",
    "val = [\n",
    "       (\"Spaghetti\", \"8.50\"),\n",
    "       (\"Chicken Parmesan\", \"10.25\"), \n",
    "       (\"Fried Icecream\", \"3.99\")\n",
    "]\n",
    "\n",
    "cursor.executemany(sql, val)\n",
    "\n",
    "cnx.commit()\n",
    "\n",
    "cursor.execute(\"SELECT * FROM menu\")\n",
    "\n",
    "for x in cursor:\n",
    "  print(x)"
   ]
  },
  {
   "cell_type": "markdown",
   "metadata": {
    "id": "DVoFK_uzRbIq"
   },
   "source": [
    "### Selecting From Table\n",
    "\n",
    "As you've seen, the cursor object iterates through the returned data from the last executed query. If you wanted to save your query results before calling a new one, you can use the `fetchall()` or `fetchone()` methods. \n",
    "\n",
    "The `fetchall()` method will return all the rows satisfied from your latest executed query; `fetchone()` will return the first row of the result. \n",
    "\n",
    "Run the following code snippet and see what prints out. "
   ]
  },
  {
   "cell_type": "code",
   "execution_count": null,
   "metadata": {
    "id": "FTQBxBveSIwL"
   },
   "outputs": [],
   "source": [
    "cursor.execute(\"SELECT * FROM menu WHERE price < 20.00\")\n",
    "\n",
    "store_results = cursor.fetchall()\n",
    "\n",
    "cursor.execute(\"SELECT * FROM menu WHERE name LIKE 's%'\" )\n",
    "\n",
    "store_results2 = cursor.fetchone(); \n",
    "\n",
    "print(\"Printing result of first query\")\n",
    "print(store_results)\n",
    "\n",
    "print(\"\\n Printing first row of second query\")\n",
    "print(store_results2)"
   ]
  },
  {
   "cell_type": "markdown",
   "metadata": {
    "id": "t5WJb6iBWdQ5"
   },
   "source": [
    "### Close Connections \n",
    "\n",
    "Once you're done with accessing your database and server, make sure to close these connections using the `close()` method. "
   ]
  },
  {
   "cell_type": "code",
   "execution_count": null,
   "metadata": {
    "id": "52dYV6USWZFZ"
   },
   "outputs": [],
   "source": [
    "cursor.close()\n",
    "cnx.close()"
   ]
  },
  {
   "cell_type": "markdown",
   "metadata": {
    "id": "WHkFYPNPWxad"
   },
   "source": [
    "## Exercise\n",
    "\n",
    "Now that you learned how to create databases and tables, insert values into tables, and access the tables with Python and MySQL, continue playing around it. Try writing queries you've learned in the SQL portions of this workshop! (Reminder: MySQL and MS SQL might have slighlty different SQL syntax)"
   ]
  },
  {
   "cell_type": "code",
   "execution_count": null,
   "metadata": {},
   "outputs": [],
   "source": [
    "# Your code here!"
   ]
  }
 ],
 "metadata": {
  "colab": {
   "collapsed_sections": [],
   "name": "PythonMySQL.ipynb",
   "provenance": []
  },
  "kernelspec": {
   "display_name": "Python 3",
   "language": "python",
   "name": "python3"
  },
  "language_info": {
   "codemirror_mode": {
    "name": "ipython",
    "version": 3
   },
   "file_extension": ".py",
   "mimetype": "text/x-python",
   "name": "python",
   "nbconvert_exporter": "python",
   "pygments_lexer": "ipython3",
   "version": "3.8.5"
  }
 },
 "nbformat": 4,
 "nbformat_minor": 1
}
